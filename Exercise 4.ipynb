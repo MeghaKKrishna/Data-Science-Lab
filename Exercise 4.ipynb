{
 "cells": [
  {
   "cell_type": "markdown",
   "id": "a29bc7e9",
   "metadata": {},
   "source": [
    "1. Write a python program to implement List-to-Series Conversion\n"
   ]
  },
  {
   "cell_type": "code",
   "execution_count": 4,
   "id": "cf216649",
   "metadata": {},
   "outputs": [
    {
     "name": "stdout",
     "output_type": "stream",
     "text": [
      "0    9\n",
      "1    8\n",
      "2    7\n",
      "3    6\n",
      "4    5\n",
      "dtype: int64\n"
     ]
    }
   ],
   "source": [
    "import pandas as pd\n",
    "list1 = [9, 8, 7, 6, 5]\n",
    "series = pd.Series(list1)\n",
    "print(series)"
   ]
  },
  {
   "cell_type": "markdown",
   "id": "a0be2b8f",
   "metadata": {},
   "source": [
    "2. Write a python program to Generate the series of dates from 1st May, 2021 to 12th May, 2021 (both inclusive)."
   ]
  },
  {
   "cell_type": "code",
   "execution_count": 6,
   "id": "bc05190a",
   "metadata": {},
   "outputs": [
    {
     "name": "stdout",
     "output_type": "stream",
     "text": [
      "DatetimeIndex(['2021-05-01', '2021-05-02', '2021-05-03', '2021-05-04',\n",
      "               '2021-05-05', '2021-05-06', '2021-05-07', '2021-05-08',\n",
      "               '2021-05-09', '2021-05-10', '2021-05-11', '2021-05-12'],\n",
      "              dtype='datetime64[ns]', freq='D')\n"
     ]
    }
   ],
   "source": [
    "import pandas as pd\n",
    "date = pd.date_range(start = '05-01-2021', end = '05-12-2021')\n",
    "print(date)"
   ]
  },
  {
   "cell_type": "markdown",
   "id": "53a8e3aa",
   "metadata": {},
   "source": [
    "3. Given a dictionary, convert it into corresponding dataframe and display it."
   ]
  },
  {
   "cell_type": "code",
   "execution_count": 8,
   "id": "96154b99",
   "metadata": {},
   "outputs": [
    {
     "name": "stdout",
     "output_type": "stream",
     "text": [
      "     Name  Age         Job\n",
      "0   Megha   23    Engineer\n",
      "1  Varsha   25      Doctor\n",
      "2   Anvin   21  Accountant\n"
     ]
    }
   ],
   "source": [
    "import pandas as pd\n",
    "dic = {'Name': ['Megha', 'Varsha', 'Anvin'],\n",
    "              'Age' : [23, 25, 21],\n",
    "              'Job' : ['Engineer', 'Doctor', 'Accountant']}\n",
    "dataframe = pd.DataFrame(dic)\n",
    "print(dataframe)"
   ]
  },
  {
   "cell_type": "markdown",
   "id": "0dba8086",
   "metadata": {},
   "source": [
    "4. Given a 2D List, convert it into corresponding dataframe and display it."
   ]
  },
  {
   "cell_type": "code",
   "execution_count": 6,
   "id": "b27ada29",
   "metadata": {},
   "outputs": [
    {
     "name": "stdout",
     "output_type": "stream",
     "text": [
      "   Id    Name  Age\n",
      "0   2   Megha   23\n",
      "1   1  Varsha   25\n",
      "2   1   Anvin   21\n"
     ]
    }
   ],
   "source": [
    "import pandas as pd\n",
    "list1 = [[2, 'Megha', 23],\n",
    "         [1, 'Varsha', 25],\n",
    "         [1, 'Anvin', 21]]\n",
    "dataframe = pd.DataFrame(list1, columns = ['Id', 'Name', 'Age'])\n",
    "print(dataframe)"
   ]
  },
  {
   "cell_type": "markdown",
   "id": "f94cfb9c",
   "metadata": {},
   "source": [
    "5. Given a CSV file, read it into a dataframe and display it"
   ]
  },
  {
   "cell_type": "code",
   "execution_count": 25,
   "id": "39a8a7f2",
   "metadata": {},
   "outputs": [
    {
     "name": "stdout",
     "output_type": "stream",
     "text": [
      "   Id    Name  Age         Job\n",
      "0   1   Megha   23    Engineer\n",
      "1   2  Varsha   25      Doctor\n",
      "2   3   Anvin   21  Accountant\n"
     ]
    }
   ],
   "source": [
    "import pandas as pd\n",
    "dataframe = pd.read_csv('Ex4_5.csv')\n",
    "print(dataframe)"
   ]
  },
  {
   "cell_type": "markdown",
   "id": "b66519c9",
   "metadata": {},
   "source": [
    "6. Given a dataframe, sort it by multiple columns"
   ]
  },
  {
   "cell_type": "code",
   "execution_count": 7,
   "id": "70762f73",
   "metadata": {},
   "outputs": [
    {
     "name": "stdout",
     "output_type": "stream",
     "text": [
      "   Id    Name  Age\n",
      "0   2   Megha   23\n",
      "1   1  Varsha   25\n",
      "2   1   Anvin   21\n",
      "\n",
      "   Id    Name  Age\n",
      "2   1   Anvin   21\n",
      "1   1  Varsha   25\n",
      "0   2   Megha   23\n"
     ]
    }
   ],
   "source": [
    "print(dataframe)\n",
    "print()\n",
    "dataframe_sorted = dataframe.sort_values(by = ['Id', 'Age']) \n",
    "print(dataframe_sorted)"
   ]
  },
  {
   "cell_type": "markdown",
   "id": "08232298",
   "metadata": {},
   "source": [
    "7.Given a dataframe with custom indexing, convert and it to default indexing and display it."
   ]
  },
  {
   "cell_type": "code",
   "execution_count": 8,
   "id": "823cc5ef",
   "metadata": {},
   "outputs": [
    {
     "name": "stdout",
     "output_type": "stream",
     "text": [
      "   Id    Name  Age\n",
      "0   2   Megha   23\n",
      "1   1  Varsha   25\n",
      "2   1   Anvin   21\n",
      "\n",
      "   index  Id    Name  Age\n",
      "0      0   2   Megha   23\n",
      "1      1   1  Varsha   25\n",
      "2      2   1   Anvin   21\n"
     ]
    }
   ],
   "source": [
    "print(dataframe)\n",
    "print()\n",
    "dataframe = dataframe.reset_index()\n",
    "print(dataframe)"
   ]
  },
  {
   "cell_type": "markdown",
   "id": "1bf22262",
   "metadata": {},
   "source": [
    "8.Given a dataframe, select first 2 rows and output them."
   ]
  },
  {
   "cell_type": "code",
   "execution_count": 9,
   "id": "7240b9ee",
   "metadata": {},
   "outputs": [
    {
     "name": "stdout",
     "output_type": "stream",
     "text": [
      "   index  Id    Name  Age\n",
      "0      0   2   Megha   23\n",
      "1      1   1  Varsha   25\n",
      "2      2   1   Anvin   21\n",
      "\n",
      "Data frame after extraction:\n",
      "   index  Id    Name  Age\n",
      "0      0   2   Megha   23\n",
      "1      1   1  Varsha   25\n"
     ]
    }
   ],
   "source": [
    "print(dataframe)\n",
    "print()\n",
    "row = dataframe.iloc[[0,1], :]\n",
    "print(\"Data frame after extraction:\")\n",
    "print(row)"
   ]
  },
  {
   "cell_type": "markdown",
   "id": "22f00de9",
   "metadata": {},
   "source": [
    "9.Given is a dataframe showing name, occupation, salary of people. Find the average salary per occupation."
   ]
  },
  {
   "cell_type": "code",
   "execution_count": 17,
   "id": "f322f8be",
   "metadata": {},
   "outputs": [
    {
     "name": "stdout",
     "output_type": "stream",
     "text": [
      "     Name  Occupation   Salary\n",
      "0   Megha    Engineer  50000.0\n",
      "1  Varsha      Doctor  70000.0\n",
      "2   Anvin  Accountant      NaN\n",
      "3  Nithin    Engineer  40000.0\n",
      "4   Shijo      Doctor  80000.0\n",
      "\n",
      "Average salary per occupation:\n",
      "\n",
      "Occupation\n",
      "Accountant        NaN\n",
      "Doctor        75000.0\n",
      "Engineer      45000.0\n",
      "Name: Salary, dtype: float64\n"
     ]
    }
   ],
   "source": [
    "import pandas as pd\n",
    "dataframe2 = pd.read_csv('Ex4_9.csv')\n",
    "print(dataframe2) \n",
    "print()\n",
    "print(\"Average salary per occupation:\")\n",
    "print()\n",
    "avg_sal = dataframe2.groupby('Occupation')['Salary'].mean() \n",
    "print(avg_sal)"
   ]
  },
  {
   "cell_type": "markdown",
   "id": "13e9100d",
   "metadata": {},
   "source": [
    "10.Given a dataframe with NaN Values, fill the NaN values with 0."
   ]
  },
  {
   "cell_type": "code",
   "execution_count": 16,
   "id": "e711baa2",
   "metadata": {},
   "outputs": [
    {
     "name": "stdout",
     "output_type": "stream",
     "text": [
      "     Name  Occupation   Salary\n",
      "0   Megha    Engineer  50000.0\n",
      "1  Varsha      Doctor  70000.0\n",
      "2   Anvin  Accountant      NaN\n",
      "3  Nithin    Engineer  40000.0\n",
      "4   Shijo      Doctor  80000.0\n",
      "\n",
      "After filling NaN with 0:\n",
      "\n",
      "     Name  Occupation   Salary\n",
      "0   Megha    Engineer  50000.0\n",
      "1  Varsha      Doctor  70000.0\n",
      "2   Anvin  Accountant      0.0\n",
      "3  Nithin    Engineer  40000.0\n",
      "4   Shijo      Doctor  80000.0\n"
     ]
    }
   ],
   "source": [
    "print(dataframe2) \n",
    "print()\n",
    "print(\"After filling NaN with 0:\")\n",
    "print()\n",
    "dataframe_nullfill = dataframe2.fillna(0)\n",
    "print(dataframe_nullfill)"
   ]
  },
  {
   "cell_type": "markdown",
   "id": "e2ef43bf",
   "metadata": {},
   "source": [
    "11.Given is a dataframe showing Company Names (cname) and corresponding Profits (profit). Convert the values of Profit column such that values in it greater than 0 are set to True and the rest are set to False."
   ]
  },
  {
   "cell_type": "code",
   "execution_count": 20,
   "id": "8af11883",
   "metadata": {},
   "outputs": [
    {
     "name": "stdout",
     "output_type": "stream",
     "text": [
      "  cname  profit\n",
      "0   ABC   50000\n",
      "1   XYZ   -5000\n",
      "2   PQR   40000\n",
      "3   LMN   -8000\n",
      "\n",
      "  cname  profit\n",
      "0   ABC    True\n",
      "1   XYZ   False\n",
      "2   PQR    True\n",
      "3   LMN   False\n"
     ]
    }
   ],
   "source": [
    "import pandas as pd\n",
    "company = pd.read_csv('Ex4_11.csv')\n",
    "print(company) \n",
    "print()\n",
    "company['profit'] = company['profit'].apply(lambda x:x>0)\n",
    "print(company)"
   ]
  },
  {
   "cell_type": "markdown",
   "id": "65705b97",
   "metadata": {},
   "source": [
    "12.Given are 2 dataframes, with one dataframe containing Employee ID (eid), Employee Name (ename) and Stipend (stipend) and the other dataframe containing Employee ID (eid) and designation of the employee (designation). Output the Dataframe containing Employee ID (eid), Employee Name (ename), Stipend (stipend) and Position (position)"
   ]
  },
  {
   "cell_type": "code",
   "execution_count": 24,
   "id": "d59d9be3",
   "metadata": {},
   "outputs": [
    {
     "name": "stdout",
     "output_type": "stream",
     "text": [
      "   eid   ename  stipend\n",
      "0  101   Megha    20000\n",
      "1  102  Varsha    25000\n",
      "2  103   Anvin    20000\n",
      "3  104  Nithin    26000\n",
      "4  105   Shijo    30000\n",
      "\n",
      "   eid  designaion\n",
      "0  101    Employee\n",
      "1  102  Technician\n",
      "2  103    Employee\n",
      "3  104     Manager\n",
      "4  105  HR Manager\n",
      "\n",
      "   eid   ename  stipend  designaion\n",
      "0  101   Megha    20000    Employee\n",
      "1  102  Varsha    25000  Technician\n",
      "2  103   Anvin    20000    Employee\n",
      "3  104  Nithin    26000     Manager\n",
      "4  105   Shijo    30000  HR Manager\n"
     ]
    }
   ],
   "source": [
    "df1 = pd.read_csv('Ex4_12a.csv')\n",
    "df2 = pd.read_csv('Ex4_12b.csv')\n",
    "print(df1) \n",
    "print()\n",
    "print(df2) \n",
    "print()\n",
    "df_out = pd.merge(df1, df2, how = 'inner', on = 'eid')\n",
    "print(df_out)"
   ]
  },
  {
   "cell_type": "code",
   "execution_count": null,
   "id": "aee77f7a",
   "metadata": {},
   "outputs": [],
   "source": []
  }
 ],
 "metadata": {
  "kernelspec": {
   "display_name": "Python 3 (ipykernel)",
   "language": "python",
   "name": "python3"
  },
  "language_info": {
   "codemirror_mode": {
    "name": "ipython",
    "version": 3
   },
   "file_extension": ".py",
   "mimetype": "text/x-python",
   "name": "python",
   "nbconvert_exporter": "python",
   "pygments_lexer": "ipython3",
   "version": "3.9.7"
  }
 },
 "nbformat": 4,
 "nbformat_minor": 5
}
