{
 "cells": [
  {
   "cell_type": "code",
   "execution_count": 1,
   "id": "c3774a29",
   "metadata": {},
   "outputs": [
    {
     "name": "stdout",
     "output_type": "stream",
     "text": [
      "The Arrays are:\n",
      "[3 6]\n",
      "[7 2]\n",
      "The Comparison are\n",
      "Greater:\n",
      "[False  True]\n",
      "Greater equal:\n",
      "[False  True]\n",
      "Less:\n",
      "[ True False]\n",
      "Less equal:\n",
      "[ True False]\n"
     ]
    }
   ],
   "source": [
    "\"\"\"Write a NumPy program to create an element-wise comparison(greater,greater equal,less,less equal)\n",
    "of two given arrays\"\"\"\n",
    "import numpy as np\n",
    "x=np.array([3,6])\n",
    "y=np.array([7,2])\n",
    "print(\"The Arrays are:\")\n",
    "print(x)\n",
    "print(y)\n",
    "print(\"The Comparison are\")\n",
    "print(\"Greater:\")\n",
    "print(np.greater(x,y))\n",
    "print(\"Greater equal:\")\n",
    "print(np.greater_equal(x,y))\n",
    "print(\"Less:\")\n",
    "print(np.less(x,y))\n",
    "print(\"Less equal:\")\n",
    "print(np.less_equal(x,y))"
   ]
  },
  {
   "cell_type": "code",
   "execution_count": 2,
   "id": "ca54ac60",
   "metadata": {},
   "outputs": [
    {
     "name": "stdout",
     "output_type": "stream",
     "text": [
      "The array of even numbers from 30 to 70 are:\n",
      "[30 32 34 36 38 40 42 44 46 48 50 52 54 56 58 60 62 64 66 68 70]\n"
     ]
    }
   ],
   "source": [
    "\"\"\"Write a numpy program to create an array of even numbers from 30 to 70.\"\"\"\n",
    "import numpy as np\n",
    "evn_arr=np.arange(30,71,2)\n",
    "print(\"The array of even numbers from 30 to 70 are:\")\n",
    "print(evn_arr)"
   ]
  },
  {
   "cell_type": "code",
   "execution_count": 3,
   "id": "443931ba",
   "metadata": {},
   "outputs": [
    {
     "name": "stdout",
     "output_type": "stream",
     "text": [
      "3x3 Identity matrix is:\n",
      "[[1. 0. 0.]\n",
      " [0. 1. 0.]\n",
      " [0. 0. 1.]]\n"
     ]
    }
   ],
   "source": [
    "\"\"\"Write a NumPy program to create a 3x3 identity matrix\"\"\"\n",
    "import numpy as np\n",
    "matrix=np.identity(3)\n",
    "print('3x3 Identity matrix is:')\n",
    "print(matrix)"
   ]
  },
  {
   "cell_type": "code",
   "execution_count": 4,
   "id": "010ed3d8",
   "metadata": {},
   "outputs": [
    {
     "name": "stdout",
     "output_type": "stream",
     "text": [
      "Original vector is:\n",
      "[ 0  1  2  3  4  5  6  7  8  9 10 11 12 13 14 15 16 17 18 19 20]\n",
      "Vector after changing the sign of the numbers in the range from 9 to 15:\n",
      "[  0   1   2   3   4   5   6   7   8  -9 -10 -11 -12 -13 -14 -15  16  17\n",
      "  18  19  20]\n"
     ]
    }
   ],
   "source": [
    "\"\"\"Write a NumPy program to create a vector with values from 0 to 20 and change the sign of\n",
    "the numbers in the range from 9 to 15.\"\"\"\n",
    "import numpy as np\n",
    "x = np.arange(21)\n",
    "print(\"Original vector is:\")\n",
    "print(x)\n",
    "print(\"Vector after changing the sign of the numbers in the range from 9 to 15:\")\n",
    "x[(x >= 9) & (x <= 15)] *= -1\n",
    "print(x)"
   ]
  },
  {
   "cell_type": "code",
   "execution_count": 5,
   "id": "9249ac79",
   "metadata": {},
   "outputs": [
    {
     "name": "stdout",
     "output_type": "stream",
     "text": [
      "[[1 0 0 0 0]\n",
      " [0 2 0 0 0]\n",
      " [0 0 3 0 0]\n",
      " [0 0 0 4 0]\n",
      " [0 0 0 0 5]]\n"
     ]
    }
   ],
   "source": [
    "\"\"\"Write a NumPy program to create a 5x5 zero matrix with elements on the main diagonal\n",
    "equal to 1, 2, 3, 4, 5.\"\"\"\n",
    "import numpy as np\n",
    "x = np.diag([1, 2, 3, 4, 5])\n",
    "print(x)"
   ]
  },
  {
   "cell_type": "code",
   "execution_count": 6,
   "id": "e449480e",
   "metadata": {},
   "outputs": [
    {
     "name": "stdout",
     "output_type": "stream",
     "text": [
      "Original array:\n",
      "[[2 1]\n",
      " [5 3]]\n",
      "Sum of all elements:\n",
      "11\n",
      "Sum of each column:\n",
      "[7 4]\n",
      "Sum of each row:\n",
      "[3 8]\n"
     ]
    }
   ],
   "source": [
    "\"\"\"Write a NumPy program to compute sum of all elements, sum of each column and sum of\n",
    "each row of a given array.\"\"\"\n",
    "import numpy as np\n",
    "x = np.array([[2,1],[5,3]])\n",
    "print(\"Original array:\")\n",
    "print(x)\n",
    "print(\"Sum of all elements:\")\n",
    "print(np.sum(x))\n",
    "print(\"Sum of each column:\")\n",
    "print(np.sum(x, axis=0))\n",
    "print(\"Sum of each row:\")\n",
    "print(np.sum(x, axis=1))\n"
   ]
  },
  {
   "cell_type": "code",
   "execution_count": 8,
   "id": "bb87fda2",
   "metadata": {},
   "outputs": [
    {
     "name": "stdout",
     "output_type": "stream",
     "text": [
      "Original array:\n",
      "[[0 1 2]\n",
      " [3 4 5]\n",
      " [6 7 8]]\n",
      "The text file is:\n",
      "[[0. 1. 2.]\n",
      " [3. 4. 5.]\n",
      " [6. 7. 8.]]\n"
     ]
    }
   ],
   "source": [
    "\"\"\"Write a NumPy program to save a given array to a text file and load it.\"\"\"\n",
    "import numpy as np\n",
    "import os\n",
    "x = np.arange(9).reshape(3, 3)\n",
    "print(\"Original array:\")\n",
    "print(x)\n",
    "header = 'col1 col2 col3'\n",
    "np.savetxt('sample.txt', x, fmt=\"%d\", header=header) \n",
    "print(\"The text file is:\")\n",
    "txt = np.loadtxt('sample.txt')\n",
    "print(txt)\n"
   ]
  },
  {
   "cell_type": "code",
   "execution_count": 12,
   "id": "c879c6ce",
   "metadata": {},
   "outputs": [
    {
     "name": "stdout",
     "output_type": "stream",
     "text": [
      "Original arrays:\n",
      "[ 5  1 10]\n",
      "[20  1  2]\n",
      "\n",
      "Result is\n",
      "[False  True False]\n"
     ]
    }
   ],
   "source": [
    "\"\"\"Write a NumPy program to check whether two arrays are equal (element wise) or not.\"\"\"\n",
    "import numpy as np\n",
    "arr1 = np.array([5, 1, 10])\n",
    "arr2 = np.array([20, 1, 2])\n",
    "print(\"Original arrays:\")\n",
    "print(arr1)\n",
    "print(arr2)\n",
    "print(\"\\nResult after checking:\")\n",
    "print(arr1 == arr2)\n",
    "\n"
   ]
  },
  {
   "cell_type": "code",
   "execution_count": 15,
   "id": "1e48510a",
   "metadata": {},
   "outputs": [
    {
     "name": "stdout",
     "output_type": "stream",
     "text": [
      "Original array:\n",
      "[[ 0  1  2  3]\n",
      " [ 4  5  6  7]\n",
      " [ 8  9 10 11]\n",
      " [12 13 14 15]]\n",
      "\n",
      "Resultant array after swapping:\n",
      "[[12 13 14 15]\n",
      " [ 8  9 10 11]\n",
      " [ 4  5  6  7]\n",
      " [ 0  1  2  3]]\n"
     ]
    }
   ],
   "source": [
    "\"\"\"Write a NumPy program to create a 4x4 array with random values, now create a new array\n",
    "from the said array swapping first and last rows\"\"\"\n",
    "import numpy as np \n",
    "arr = np.arange(16).reshape(-1, 4)\n",
    "print(\"Original array:\")\n",
    "print(arr)\n",
    "print(\"\\nResultant array after swapping:\")\n",
    "arr1 = arr[::-1]\n",
    "print(arr1)\n"
   ]
  },
  {
   "cell_type": "code",
   "execution_count": 16,
   "id": "ce2df2c8",
   "metadata": {},
   "outputs": [
    {
     "name": "stdout",
     "output_type": "stream",
     "text": [
      "First Array:\n",
      "[[2 6 5]\n",
      " [1 3 4]]\n",
      "Second Array:\n",
      "[[6 2 2]\n",
      " [9 4 5]]\n",
      "\n",
      "Resultant array after multiplication:\n",
      "[[12 12 10]\n",
      " [ 9 12 20]]\n"
     ]
    }
   ],
   "source": [
    "\"\"\"Write a NumPy program to multiply two given arrays of same size element-by-element\"\"\"\n",
    "import numpy as np \n",
    "arr1 = np.array([[2, 6, 5],\n",
    "              [1, 3, 4]])\n",
    "arr2 = np.array([[6, 2, 2],\n",
    "              [9, 4, 5]])\n",
    "print(\"First Array:\") \n",
    "print(arr1)\n",
    "print(\"Second Array:\") \n",
    "print(arr2)\n",
    "print(\"\\nResultant array after multiplication:\")\n",
    "print(np.multiply(arr1, arr2))\n"
   ]
  },
  {
   "cell_type": "code",
   "execution_count": null,
   "id": "d79a6391",
   "metadata": {},
   "outputs": [],
   "source": []
  }
 ],
 "metadata": {
  "kernelspec": {
   "display_name": "Python 3 (ipykernel)",
   "language": "python",
   "name": "python3"
  },
  "language_info": {
   "codemirror_mode": {
    "name": "ipython",
    "version": 3
   },
   "file_extension": ".py",
   "mimetype": "text/x-python",
   "name": "python",
   "nbconvert_exporter": "python",
   "pygments_lexer": "ipython3",
   "version": "3.9.7"
  }
 },
 "nbformat": 4,
 "nbformat_minor": 5
}
