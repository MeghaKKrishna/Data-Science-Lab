{
 "cells": [
  {
   "cell_type": "code",
   "execution_count": 2,
   "id": "c3774a29",
   "metadata": {},
   "outputs": [
    {
     "name": "stdout",
     "output_type": "stream",
     "text": [
      "The Arrays are:\n",
      "[3 6]\n",
      "[7 2]\n",
      "Comparison - greater\n",
      "[False  True]\n",
      "Comparison - greater equal\n",
      "[False  True]\n",
      "Comparison - less\n",
      "[ True False]\n",
      "Comparison - Less equal\n",
      "[ True False]\n"
     ]
    }
   ],
   "source": [
    "\"\"\"Write a NumPy program to create an element-wise comparison(greater,greater equal,less,less equal)\n",
    "of two given arrays\"\"\"\n",
    "import numpy as np\n",
    "x=np.array([3,6])\n",
    "y=np.array([7,2])\n",
    "print(\"The Arrays are:\")\n",
    "print(x)\n",
    "print(y)\n",
    "print(\"The Comparison are\")\n",
    "print(\"Greater\")\n",
    "print(np.greater(x,y))\n",
    "print(\"Greater equal\")\n",
    "print(np.greater_equal(x,y))\n",
    "print(\"Less\")\n",
    "print(np.less(x,y))\n",
    "print(\"Less equal\")\n",
    "print(np.less_equal(x,y))"
   ]
  },
  {
   "cell_type": "code",
   "execution_count": null,
   "id": "ca54ac60",
   "metadata": {},
   "outputs": [],
   "source": []
  }
 ],
 "metadata": {
  "kernelspec": {
   "display_name": "Python 3 (ipykernel)",
   "language": "python",
   "name": "python3"
  },
  "language_info": {
   "codemirror_mode": {
    "name": "ipython",
    "version": 3
   },
   "file_extension": ".py",
   "mimetype": "text/x-python",
   "name": "python",
   "nbconvert_exporter": "python",
   "pygments_lexer": "ipython3",
   "version": "3.9.7"
  }
 },
 "nbformat": 4,
 "nbformat_minor": 5
}
